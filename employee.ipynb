{
 "cells": [
  {
   "cell_type": "markdown",
   "metadata": {},
   "source": [
    "## Clase Employee\n",
    "- **int id**: Atributo de instancia. Identifica de manera unica a cada instancia de Employee\n",
    "- **int new_id**: Atributo de clase. Identificador unico.\n",
    "- **void say_id**: Imprime el id de la instancia. \n",
    "\n",
    "## Clase User\n",
    "\n",
    " - **str role**: Atributo de instancia. Función la instancia de 'User' p.ej.\n",
    "    - Administrador\n",
    "    - Manager\n",
    "    - Usuario\n",
    "- **str username**: Atributo de instancia. Nombre del usuario.\n",
    "- **Void say_user_info**: Imprime 'Mi nombre es {self.username} y soy {self.role}.'.\n",
    "\n",
    "# Clase Admi\n",
    "\n",
    "- **void say_id()**: Imprime:\n",
    "    - 'Mi id es: {self.id}.\n",
    "    - 'Soy un Administrador \\{0-0}/'.\n",
    "\n",
    "## Clase Manager\n",
    "- **void say_id()**: Imprime:\n",
    "    - 'Mi id es: {self.id}.\n",
    "    - 'Soy un Administrador \\{0-0}/'.\n",
    "    - 'Y estoy al mando´."
   ]
  },
  {
   "cell_type": "code",
   "execution_count": 6,
   "metadata": {},
   "outputs": [],
   "source": [
    "class Employee:\n",
    "    def __init__(self, name):\n",
    "        self.name = name\n",
    "\n",
    "    def say_name(self):\n",
    "        print(f\"Mi nombre es: {self.name}\")\n",
    "    \n",
    "\n",
    "    def id(self):\n",
    "        print(f\"Mi id es: {self.name}\")\n",
    "\n",
    "    def new_id(self):\n",
    "        print(f\"Mi id es: {self.name}\")\n",
    "        \n",
    "    def say_id(self):\n",
    "        print(f\"Mi id es: {self.new_id()}\")\n"
   ]
  },
  {
   "cell_type": "markdown",
   "metadata": {},
   "source": [
    "## Clase User\n",
    "\n",
    " - **str role**: Atributo de instancia. Función la instancia de 'User' p.ej.\n",
    "    - Administrador\n",
    "    - Manager\n",
    "    - Usuario\n",
    "- **str username**: Atributo de instancia. Nombre del usuario.\n",
    "- **Void say_user_info**: Imprime 'Mi nombre es {self.username} y soy {self.role}.'.\n",
    "\n"
   ]
  },
  {
   "cell_type": "code",
   "execution_count": 7,
   "metadata": {},
   "outputs": [],
   "source": [
    "class user(Employee):\n",
    "    def str_role():\n",
    "        print(\"Mi rol es: \")\n",
    "    \n",
    "    def str_username(self):\n",
    "        print(\"Mi nombre es: \")\n",
    "    \n",
    "    def say_user_info(self):\n",
    "        print(f\"Mi nombre es {self.str_username()} y soy {self.str_role()}.\")"
   ]
  },
  {
   "cell_type": "markdown",
   "metadata": {},
   "source": [
    "# Clase Admi\n",
    "\n",
    "- **void say_id()**: Imprime:\n",
    "    - 'Mi id es: {self.id}.\n",
    "    - 'Soy un Administrador \\{0-0}/'."
   ]
  },
  {
   "cell_type": "code",
   "execution_count": 8,
   "metadata": {},
   "outputs": [],
   "source": [
    "class Admi(Employee):\n",
    "    def say_id(self):\n",
    "        print(f\"Mi id es: {self.new_id()}\")\n",
    "        print(\"Soy un Administrador {0-0}/\")"
   ]
  },
  {
   "cell_type": "markdown",
   "metadata": {},
   "source": [
    "## Clase Manager\n",
    "- **void say_id()**: Imprime:\n",
    "    - 'Mi id es: {self.id}.\n",
    "    - 'Soy un Administrador \\{0-0}/'.\n",
    "    - 'Y estoy al mando´."
   ]
  },
  {
   "cell_type": "code",
   "execution_count": 9,
   "metadata": {},
   "outputs": [],
   "source": [
    "class Manager(Employee):\n",
    "    def say_id(self):\n",
    "        print(f\"Mi id es: {self.new_id()}\")\n",
    "        print(\"Soy un Administrador {0-0}/\")\n",
    "        print(\"Y estoy al mando.\")"
   ]
  },
  {
   "cell_type": "code",
   "execution_count": 12,
   "metadata": {},
   "outputs": [
    {
     "name": "stdout",
     "output_type": "stream",
     "text": [
      "Mi id es: admin\n",
      "Mi id es: None\n",
      "Soy un Administrador {0-0}/\n",
      "Mi id es: manager\n",
      "Mi id es: None\n",
      "Soy un Administrador {0-0}/\n",
      "Y estoy al mando.\n"
     ]
    }
   ],
   "source": [
    "pancho = user(\"pancho\")\n",
    "\n",
    "admin = Admi(\"admin\")\n",
    "admin.say_id()\n",
    "manager = Manager(\"manager\")\n",
    "manager.say_id()\n"
   ]
  }
 ],
 "metadata": {
  "kernelspec": {
   "display_name": "Python 3",
   "language": "python",
   "name": "python3"
  },
  "language_info": {
   "codemirror_mode": {
    "name": "ipython",
    "version": 3
   },
   "file_extension": ".py",
   "mimetype": "text/x-python",
   "name": "python",
   "nbconvert_exporter": "python",
   "pygments_lexer": "ipython3",
   "version": "3.11.9"
  }
 },
 "nbformat": 4,
 "nbformat_minor": 2
}
