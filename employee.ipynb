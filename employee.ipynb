{
 "cells": [
  {
   "cell_type": "markdown",
   "metadata": {},
   "source": [
    "<img src=\"Diagramas_clases/Ejercicio 06.jpg\" alt=\"Ex 1\" width=\"500\">"
   ]
  },
  {
   "cell_type": "markdown",
   "metadata": {},
   "source": [
    "## Clase Employee\n",
    "- **int id**: Atributo de instancia. Identifica de manera unica a cada instancia de Employee\n",
    "- **int new_id**: Atributo de clase. Identificador unico.\n",
    "- **void say_id**: Imprime el id de la instancia. \n",
    "\n",
    "## Clase User\n",
    "\n",
    " - **str role**: Atributo de instancia. Función la instancia de 'User' p.ej.\n",
    "    - Administrador\n",
    "    - Manager\n",
    "    - Usuario\n",
    "- **str username**: Atributo de instancia. Nombre del usuario.\n",
    "- **Void say_user_info**: Imprime 'Mi nombre es {self.username} y soy {self.role}.'.\n",
    "\n",
    "# Clase Admi\n",
    "\n",
    "- **void say_id()**: Imprime:\n",
    "    - 'Mi id es: {self.id}.\n",
    "    - 'Soy un Administrador \\{0-0}/'.\n",
    "\n",
    "## Clase Manager\n",
    "- **void say_id()**: Imprime:\n",
    "    - 'Mi id es: {self.id}.\n",
    "    - 'Soy un Administrador \\{0-0}/'.\n",
    "    - 'Y estoy al mando´.\n",
    "\n",
    "##"
   ]
  },
  {
   "cell_type": "markdown",
   "metadata": {},
   "source": [
    "## Clase Employee\n",
    "- **int id**: Atributo de instancia. Identifica de manera unica a cada instancia de Employee\n",
    "- **int new_id**: Atributo de clase. Identificador unico.\n",
    "- **void say_id**: Imprime el id de la instancia. "
   ]
  },
  {
   "cell_type": "code",
   "execution_count": 220,
   "metadata": {},
   "outputs": [],
   "source": [
    "class Employee:\n",
    "    new_id = 0\n",
    "\n",
    "    def __init__(self):\n",
    "        self.id = Employee.new_id\n",
    "        Employee.new_id += 1\n",
    "\n",
    "    def say_id(self):\n",
    "        print(f'Mi id es: {self.id}')\n",
    "\n",
    "class User:\n",
    "    def __init__(self, role, name):\n",
    "        self.role = role\n",
    "        self.name = name\n",
    "\n",
    "    def say_user_info(self):\n",
    "        print(f'Mi nombre es {self.name} y mi role es: {self.role}')\n",
    "\n"
   ]
  },
  {
   "cell_type": "code",
   "execution_count": 221,
   "metadata": {},
   "outputs": [],
   "source": [
    "class Admi(Employee, User):\n",
    "    def say_id(self):\n",
    "        super().say_id()\n",
    "        print(f\"Soy un administrador \\\\(O-O)/\")"
   ]
  },
  {
   "cell_type": "code",
   "execution_count": 222,
   "metadata": {},
   "outputs": [],
   "source": [
    "\n",
    "class Manager(Admi, User):\n",
    "    def say_id(self):\n",
    "        super().say_id()\n",
    "        print(f'Soy un manager y estoy al mando')"
   ]
  },
  {
   "cell_type": "code",
   "execution_count": 224,
   "metadata": {},
   "outputs": [
    {
     "name": "stdout",
     "output_type": "stream",
     "text": [
      "Mi id es: 3\n",
      "Mi id es: 4\n",
      "Soy un administrador \\(O-O)/\n",
      "Mi nombre es Pancho y mi role es: administrador\n",
      "Mi id es: 5\n",
      "Soy un administrador \\(O-O)/\n",
      "Soy un manager y estoy al mando\n",
      "Mi nombre es Agripino y mi role es: Manager\n"
     ]
    }
   ],
   "source": [
    "Pablo = Employee()\n",
    "Pablo.say_id()\n",
    "\n",
    "Pancho = Admi()\n",
    "Pancho.say_id()\n",
    "Pancho = User(\"administrador\", \"Pancho\")\n",
    "Pancho.say_user_info()\n",
    "Agripino = Manager()\n",
    "Agripino.say_id()\n",
    "Agripino = User(\"Manager\", \"Agripino\")\n",
    "Agripino.say_user_info()"
   ]
  }
 ],
 "metadata": {
  "kernelspec": {
   "display_name": "Python 3",
   "language": "python",
   "name": "python3"
  },
  "language_info": {
   "codemirror_mode": {
    "name": "ipython",
    "version": 3
   },
   "file_extension": ".py",
   "mimetype": "text/x-python",
   "name": "python",
   "nbconvert_exporter": "python",
   "pygments_lexer": "ipython3",
   "version": "3.11.9"
  }
 },
 "nbformat": 4,
 "nbformat_minor": 2
}
