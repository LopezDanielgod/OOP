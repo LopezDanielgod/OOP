{
 "cells": [
  {
   "cell_type": "markdown",
   "metadata": {},
   "source": [
    "## Clase Employee\n",
    "- **int id**: Atributo de instancia. Identifica de manera unica a cada instancia de Employee\n",
    "- **int new_id**: Atributo de clase. Identificador unico.\n",
    "- **void say_id**: Imprime el id de la instancia. \n",
    "\n",
    "## Clase User\n",
    "\n",
    " - **str role**: Atributo de instancia. Función la instancia de 'User' p.ej.\n",
    "    - Administrador\n",
    "    - Manager\n",
    "    - Usuario\n",
    "- **str username**: Atributo de instancia. Nombre del usuario.\n",
    "- **Void say_user_info**: Imprime 'Mi nombre es {self.username} y soy {self.role}.'.\n",
    "\n",
    "# Clase Admi\n",
    "\n",
    "- **void say_id()**: Imprime:\n",
    "    - 'Mi id es: {self.id}.\n",
    "    - 'Soy un Administrador \\{0-0}/'.\n",
    "\n",
    "## Clase Manager\n",
    "- **void say_id()**: Imprime:\n",
    "    - 'Mi id es: {self.id}.\n",
    "    - 'Soy un Administrador \\{0-0}/'.\n",
    "    - 'Y estoy al mando´."
   ]
  },
  {
   "cell_type": "code",
   "execution_count": null,
   "metadata": {},
   "outputs": [],
   "source": [
    "class Employee:\n",
    "    def id(self):\n",
    "        self.name = name\n",
    "    \n",
    "    def new_id(self):\n",
    "        print('Yummy Yummy! estoy comiendo. ')\n",
    "\n",
    "    def make_noise(self):\n",
    "        print(f'{self.name} hace Grrrr.')"
   ]
  }
 ],
 "metadata": {
  "kernelspec": {
   "display_name": "Python 3",
   "language": "python",
   "name": "python3"
  },
  "language_info": {
   "name": "python",
   "version": "3.12.5"
  }
 },
 "nbformat": 4,
 "nbformat_minor": 2
}
