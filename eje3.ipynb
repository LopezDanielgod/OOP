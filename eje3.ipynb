{
 "cells": [
  {
   "cell_type": "markdown",
   "metadata": {},
   "source": [
    "# Ejercicio 3 OOP"
   ]
  },
  {
   "cell_type": "code",
   "execution_count": 1,
   "metadata": {},
   "outputs": [
    {
     "ename": "SyntaxError",
     "evalue": "invalid syntax (4166962762.py, line 1)",
     "output_type": "error",
     "traceback": [
      "\u001b[0;36m  Cell \u001b[0;32mIn[1], line 1\u001b[0;36m\u001b[0m\n\u001b[0;31m    <img src= alt=\"Ex 1\" width=\"500\">\u001b[0m\n\u001b[0m    ^\u001b[0m\n\u001b[0;31mSyntaxError\u001b[0m\u001b[0;31m:\u001b[0m invalid syntax\n"
     ]
    }
   ],
   "source": [
    "<img src=\"Diagra\" alt=\"Ex 1\" width=\"500\">"
   ]
  },
  {
   "cell_type": "markdown",
   "metadata": {},
   "source": []
  },
  {
   "cell_type": "code",
   "execution_count": 4,
   "metadata": {},
   "outputs": [],
   "source": [
    "class Employee:\n",
    "    new_id = 1\n",
    "    \n",
    "    def _init_(self):\n",
    "        self.id = Employee.new_id \n",
    "        Employee.new_id += 1\n",
    "        \n",
    "    def say_id(self):\n",
    "        print(f\"Mi id es: {self.id}\")\n",
    "\n",
    "class Admi(Employee):\n",
    "    def say_id(self):\n",
    "        super ().say_if()\n",
    "        print(f\"Soy un administrador\")\n",
    "class Manager(Admi):\n",
    "    def say_id(self):\n",
    "        # super ().say_if()\n",
    "        print(f\"Soy un manager y estoy encargado\")"
   ]
  },
  {
   "cell_type": "markdown",
   "metadata": {},
   "source": []
  },
  {
   "cell_type": "code",
   "execution_count": 3,
   "metadata": {},
   "outputs": [
    {
     "ename": "AttributeError",
     "evalue": "'Employee' object has no attribute 'id'",
     "output_type": "error",
     "traceback": [
      "\u001b[0;31m---------------------------------------------------------------------------\u001b[0m",
      "\u001b[0;31mAttributeError\u001b[0m                            Traceback (most recent call last)",
      "\u001b[1;32m/Users/danz12/Documents/OOP/Paradigmo/OOP/eje3.ipynb Cell 4\u001b[0m line \u001b[0;36m2\n\u001b[1;32m      <a href='vscode-notebook-cell:/Users/danz12/Documents/OOP/Paradigmo/OOP/eje3.ipynb#W5sZmlsZQ%3D%3D?line=0'>1</a>\u001b[0m Juan \u001b[39m=\u001b[39m Employee()\n\u001b[0;32m----> <a href='vscode-notebook-cell:/Users/danz12/Documents/OOP/Paradigmo/OOP/eje3.ipynb#W5sZmlsZQ%3D%3D?line=1'>2</a>\u001b[0m Juan\u001b[39m.\u001b[39;49msay_id()\n\u001b[1;32m      <a href='vscode-notebook-cell:/Users/danz12/Documents/OOP/Paradigmo/OOP/eje3.ipynb#W5sZmlsZQ%3D%3D?line=3'>4</a>\u001b[0m Pedro \u001b[39m=\u001b[39m Employee()\n\u001b[1;32m      <a href='vscode-notebook-cell:/Users/danz12/Documents/OOP/Paradigmo/OOP/eje3.ipynb#W5sZmlsZQ%3D%3D?line=4'>5</a>\u001b[0m Pedro\u001b[39m.\u001b[39msay_id()\n",
      "\u001b[1;32m/Users/danz12/Documents/OOP/Paradigmo/OOP/eje3.ipynb Cell 4\u001b[0m line \u001b[0;36m9\n\u001b[1;32m      <a href='vscode-notebook-cell:/Users/danz12/Documents/OOP/Paradigmo/OOP/eje3.ipynb#W5sZmlsZQ%3D%3D?line=7'>8</a>\u001b[0m \u001b[39mdef\u001b[39;00m \u001b[39msay_id\u001b[39m(\u001b[39mself\u001b[39m):\n\u001b[0;32m----> <a href='vscode-notebook-cell:/Users/danz12/Documents/OOP/Paradigmo/OOP/eje3.ipynb#W5sZmlsZQ%3D%3D?line=8'>9</a>\u001b[0m     \u001b[39mprint\u001b[39m(\u001b[39mf\u001b[39m\u001b[39m\"\u001b[39m\u001b[39mMi id es: \u001b[39m\u001b[39m{\u001b[39;00m\u001b[39mself\u001b[39;49m\u001b[39m.\u001b[39;49mid\u001b[39m}\u001b[39;00m\u001b[39m\"\u001b[39m)\n",
      "\u001b[0;31mAttributeError\u001b[0m: 'Employee' object has no attribute 'id'"
     ]
    }
   ],
   "source": [
    "Juan = Employee()\n",
    "Juan.say_id()\n",
    "\n",
    "Pedro = Employee()\n",
    "Pedro.say_id()\n",
    "\n",
    "Martin = Manager()\n",
    "Martin.say_id()"
   ]
  }
 ],
 "metadata": {
  "kernelspec": {
   "display_name": "Python 3",
   "language": "python",
   "name": "python3"
  },
  "language_info": {
   "codemirror_mode": {
    "name": "ipython",
    "version": 3
   },
   "file_extension": ".py",
   "mimetype": "text/x-python",
   "name": "python",
   "nbconvert_exporter": "python",
   "pygments_lexer": "ipython3",
   "version": "3.12.5"
  }
 },
 "nbformat": 4,
 "nbformat_minor": 2
}
