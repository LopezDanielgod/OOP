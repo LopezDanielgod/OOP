{
 "cells": [
  {
   "cell_type": "markdown",
   "metadata": {},
   "source": [
    "# Ejercicio 1"
   ]
  },
  {
   "cell_type": "code",
   "execution_count": 5,
   "metadata": {},
   "outputs": [],
   "source": [
    "class Employee:\n",
    "    new_id = 1\n",
    "    \n",
    "    def _init_(self):\n",
    "        self.id = Employee.new_id \n",
    "        Employee.new_id += 1\n",
    "        \n",
    "    def say_id(self):\n",
    "        print(f\"Mi id es: {self.id}\")"
   ]
  },
  {
   "cell_type": "code",
   "execution_count": 6,
   "metadata": {},
   "outputs": [
    {
     "ename": "AttributeError",
     "evalue": "'Employee' object has no attribute 'id'",
     "output_type": "error",
     "traceback": [
      "\u001b[0;31m---------------------------------------------------------------------------\u001b[0m",
      "\u001b[0;31mAttributeError\u001b[0m                            Traceback (most recent call last)",
      "\u001b[1;32m/Users/danz12/Documents/OOP/Paradigmo/OOP/eje1.ipynb Cell 4\u001b[0m line \u001b[0;36m4\n\u001b[1;32m      <a href='vscode-notebook-cell:/Users/danz12/Documents/OOP/Paradigmo/OOP/eje1.ipynb#W3sZmlsZQ%3D%3D?line=0'>1</a>\u001b[0m Asael_Luces \u001b[39m=\u001b[39m Employee()\n\u001b[1;32m      <a href='vscode-notebook-cell:/Users/danz12/Documents/OOP/Paradigmo/OOP/eje1.ipynb#W3sZmlsZQ%3D%3D?line=1'>2</a>\u001b[0m Citlali_Traidora \u001b[39m=\u001b[39m Employee()\n\u001b[0;32m----> <a href='vscode-notebook-cell:/Users/danz12/Documents/OOP/Paradigmo/OOP/eje1.ipynb#W3sZmlsZQ%3D%3D?line=3'>4</a>\u001b[0m Asael_Luces\u001b[39m.\u001b[39;49msay_id()\n\u001b[1;32m      <a href='vscode-notebook-cell:/Users/danz12/Documents/OOP/Paradigmo/OOP/eje1.ipynb#W3sZmlsZQ%3D%3D?line=4'>5</a>\u001b[0m Citlali_Traidora\u001b[39m.\u001b[39msay_id()\n",
      "\u001b[1;32m/Users/danz12/Documents/OOP/Paradigmo/OOP/eje1.ipynb Cell 4\u001b[0m line \u001b[0;36m9\n\u001b[1;32m      <a href='vscode-notebook-cell:/Users/danz12/Documents/OOP/Paradigmo/OOP/eje1.ipynb#W3sZmlsZQ%3D%3D?line=7'>8</a>\u001b[0m \u001b[39mdef\u001b[39;00m \u001b[39msay_id\u001b[39m(\u001b[39mself\u001b[39m):\n\u001b[0;32m----> <a href='vscode-notebook-cell:/Users/danz12/Documents/OOP/Paradigmo/OOP/eje1.ipynb#W3sZmlsZQ%3D%3D?line=8'>9</a>\u001b[0m     \u001b[39mprint\u001b[39m(\u001b[39mf\u001b[39m\u001b[39m\"\u001b[39m\u001b[39mMi id es: \u001b[39m\u001b[39m{\u001b[39;00m\u001b[39mself\u001b[39;49m\u001b[39m.\u001b[39;49mid\u001b[39m}\u001b[39;00m\u001b[39m\"\u001b[39m)\n",
      "\u001b[0;31mAttributeError\u001b[0m: 'Employee' object has no attribute 'id'"
     ]
    }
   ],
   "source": [
    "Asael_Luces = Employee()\n",
    "Citlali_Traidora = Employee()\n",
    "\n",
    "Asael_Luces.say_id()\n",
    "Citlali_Traidora.say_id()"
   ]
  }
 ],
 "metadata": {
  "kernelspec": {
   "display_name": "Python 3",
   "language": "python",
   "name": "python3"
  },
  "language_info": {
   "codemirror_mode": {
    "name": "ipython",
    "version": 3
   },
   "file_extension": ".py",
   "mimetype": "text/x-python",
   "name": "python",
   "nbconvert_exporter": "python",
   "pygments_lexer": "ipython3",
   "version": "3.11.4"
  }
 },
 "nbformat": 4,
 "nbformat_minor": 2
}
