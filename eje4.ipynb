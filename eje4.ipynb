{
 "cells": [
  {
   "cell_type": "markdown",
   "metadata": {},
   "source": [
    "<img src=\"Diagramas_clases/04_overrinding.png\" alt=\"Ex 1\" width=\"500\">"
   ]
  },
  {
   "cell_type": "code",
   "execution_count": 21,
   "metadata": {},
   "outputs": [],
   "source": [
    "class Animal:\n",
    "    def __init__(self, name):\n",
    "        self.name = name\n",
    "\n",
    "    def say_name(self):\n",
    "        print(f\"Mi nombre es: {self.name}\")\n",
    "\n",
    "    def eat(self):\n",
    "        print(f\"Jummy Jummy!, estoy comiendo\")\n",
    "\n",
    "    def make_noise(self):\n",
    "        print(f\"Hago Grr!\")\n",
    "\n",
    "class Cat(Animal):\n",
    "    def meow(self):\n",
    "        print(\"Soy un gato y hago meow!\")\n",
    "\n",
    "    def make_noise(self):\n",
    "        print(f\"hago prrr: {self.name}\")\n",
    "        \n",
    "class Dog(Animal):\n",
    "    def bark(self):\n",
    "        print(\"Soy un perro y hago gua gua!\")\n",
    "\n"
   ]
  },
  {
   "cell_type": "code",
   "execution_count": 22,
   "metadata": {},
   "outputs": [
    {
     "name": "stdout",
     "output_type": "stream",
     "text": [
      "Soy un perro y hago gua gua!\n",
      "Jummy Jummy!, estoy comiendo\n",
      "Mi nombre es: Solo Vino\n",
      "Mi nombre es: Solo Vino\n",
      "Soy un gato y hago meow!\n",
      "Jummy Jummy!, estoy comiendo\n",
      "Mi nombre es: Felix\n",
      "Mi nombre es: Felix\n",
      "hago prrr: Felix\n"
     ]
    }
   ],
   "source": [
    "Solo_Vino = Dog(\"Solo Vino\")\n",
    "Solo_Vino.bark()\n",
    "Solo_Vino.eat()\n",
    "print(f\"Mi nombre es: {Solo_Vino.name}\")\n",
    "Solo_Vino.say_name()\n",
    "\n",
    "Felix = Cat(\"Felix\")\n",
    "Felix.meow()\n",
    "Felix.eat()\n",
    "print(f\"Mi nombre es: {Felix.name}\")\n",
    "Felix.say_name()\n",
    "Felix.make_noise()"
   ]
  }
 ],
 "metadata": {
  "kernelspec": {
   "display_name": "Python 3",
   "language": "python",
   "name": "python3"
  },
  "language_info": {
   "codemirror_mode": {
    "name": "ipython",
    "version": 3
   },
   "file_extension": ".py",
   "mimetype": "text/x-python",
   "name": "python",
   "nbconvert_exporter": "python",
   "pygments_lexer": "ipython3",
   "version": "3.11.4"
  }
 },
 "nbformat": 4,
 "nbformat_minor": 2
}
