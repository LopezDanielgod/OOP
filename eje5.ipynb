{
 "cells": [
  {
   "cell_type": "markdown",
   "metadata": {},
   "source": [
    "<img src=\"Diagramas_clases/05_herencia_multiple.png\" alt=\"Ex 1\" width=\"500\">"
   ]
  },
  {
   "cell_type": "code",
   "execution_count": 15,
   "metadata": {},
   "outputs": [],
   "source": [
    "class Animal:\n",
    "    def __init__(self, name):\n",
    "        self.name = name\n",
    "\n",
    "    def say_name(self):\n",
    "        print(f\"Mi nombre es: {self.name}\")\n",
    "\n",
    "    def eat(self):\n",
    "        print(f\"Jummy Jummy!, estoy comiendo\")\n",
    "\n",
    "    def make_noise(self):\n",
    "        print(f\"Hago Grr!\")\n",
    "    \n",
    "    def action(self):\n",
    "        print(\"Soy un canino\")\n",
    "    \n",
    "\n",
    "class Cat(Animal):\n",
    "    def meow(self):\n",
    "        print(\"Soy un gato y hago meow!\")\n",
    "    def make_noise(self):\n",
    "        print(f\"hago prrr: {self.name}\")\n",
    "        \n",
    "class Dog(Animal):\n",
    "    def bark(self):\n",
    "        print(\"Soy un perro y hago gua gua!\")\n",
    "    def action(self):\n",
    "        print(\"Soy un canino\")\n",
    "\n",
    "class Wolf(Animal):\n",
    "    def Aaaauuu(self):\n",
    "        print(\"Soy un lobo y hago Aaaauuu!\")\n",
    "    def action(self):\n",
    "        print(\"Soy un canino\")\n"
   ]
  },
  {
   "cell_type": "code",
   "execution_count": 16,
   "metadata": {},
   "outputs": [
    {
     "name": "stdout",
     "output_type": "stream",
     "text": [
      "Soy un perro y hago gua gua!\n",
      "Jummy Jummy!, estoy comiendo\n",
      "Mi nombre es: Solo Vino\n",
      "Mi nombre es: Solo Vino\n",
      "Soy un canino\n",
      "Soy un gato y hago meow!\n",
      "Jummy Jummy!, estoy comiendo\n",
      "Mi nombre es: Felix\n",
      "Mi nombre es: Felix\n",
      "hago prrr: Felix\n",
      "Soy un lobo y hago Aaaauuu!\n",
      "Jummy Jummy!, estoy comiendo\n",
      "Soy un canino\n",
      "Mi nombre es: Soy Balto\n",
      "Mi nombre es: Soy Balto\n"
     ]
    }
   ],
   "source": [
    "Solo_Vino = Dog(\"Solo Vino\")\n",
    "Solo_Vino.bark()\n",
    "Solo_Vino.eat()\n",
    "print(f\"Mi nombre es: {Solo_Vino.name}\")\n",
    "Solo_Vino.say_name()\n",
    "Solo_Vino.action()\n",
    "\n",
    "Felix = Cat(\"Felix\")\n",
    "Felix.meow()\n",
    "Felix.eat()\n",
    "print(f\"Mi nombre es: {Felix.name}\")\n",
    "Felix.say_name()\n",
    "Felix.make_noise()\n",
    "\n",
    "Balto = Wolf(\"Soy Balto\")\n",
    "Balto.Aaaauuu()\n",
    "Balto.eat()\n",
    "Balto.action()\n",
    "print(f\"Mi nombre es: {Balto.name}\")\n",
    "Balto.say_name()"
   ]
  },
  {
   "cell_type": "markdown",
   "metadata": {},
   "source": [
    "## Clase Animal\n",
    "- **str name**: Atributo de instancia. Nombre del animal.\n",
    "- **void eat()**: Imprime 'Yummy Yummy! estoy comiendo.'.\n",
    "- **void_noise()** Imprime'{self.name} hace Grrr.'."
   ]
  },
  {
   "cell_type": "code",
   "execution_count": 17,
   "metadata": {},
   "outputs": [],
   "source": [
    "class Animal:\n",
    "    def __init__(self, name):\n",
    "        self.name = name\n",
    "    \n",
    "    def eat(self):\n",
    "        print('Yummy Yummy! estoy comiendo. ')\n",
    "\n",
    "    def make_noise(self):\n",
    "        print(f'{self.name} hace Grrrr.')"
   ]
  },
  {
   "cell_type": "code",
   "execution_count": 18,
   "metadata": {},
   "outputs": [
    {
     "name": "stdout",
     "output_type": "stream",
     "text": [
      "Yummy Yummy! estoy comiendo. \n",
      "Negro hace Grrrr.\n"
     ]
    }
   ],
   "source": [
    "Negro = Animal('Negro')\n",
    "Negro.eat()\n",
    "Negro.make_noise()"
   ]
  },
  {
   "cell_type": "markdown",
   "metadata": {},
   "source": [
    "- **void make_nose()** Imprime 'self.name' hace rrrrr.'.\n",
    "- **void meow()** Imprime 'Soy un gato y hago Meow.'."
   ]
  },
  {
   "cell_type": "code",
   "execution_count": 19,
   "metadata": {},
   "outputs": [],
   "source": [
    "class Cat(Animal):\n",
    "    def make_noise(self):\n",
    "        print(f'{self.name} hace Rrrrr')\n",
    "    \n",
    "    def meow(self):\n",
    "        print('Soy un gato y hago Meow!')"
   ]
  },
  {
   "cell_type": "code",
   "execution_count": 20,
   "metadata": {},
   "outputs": [
    {
     "name": "stdout",
     "output_type": "stream",
     "text": [
      "Michu hace Rrrrr\n",
      "Soy un gato y hago Meow!\n",
      "Yummy Yummy! estoy comiendo. \n"
     ]
    }
   ],
   "source": [
    "Michu = Cat('Michu')\n",
    "Michu.make_noise()\n",
    "Michu.meow()\n",
    "Michu.eat()"
   ]
  },
  {
   "cell_type": "markdown",
   "metadata": {},
   "source": [
    "## Clase Dog\n",
    "\n",
    "- **void action()**: Imprime '{self.name} mueve la cola!'.\n",
    "- **void bark()**: Imprime 'Soy un perro y hago woof woof!."
   ]
  },
  {
   "cell_type": "code",
   "execution_count": 21,
   "metadata": {},
   "outputs": [],
   "source": [
    "class Dog(Animal):\n",
    "    def action(self):\n",
    "        print(f'{self.name} mueve la cola!')\n",
    "\n",
    "    def bark(self):\n",
    "        print('Soy un perro y hago woof woof!')"
   ]
  },
  {
   "cell_type": "code",
   "execution_count": 22,
   "metadata": {},
   "outputs": [
    {
     "name": "stdout",
     "output_type": "stream",
     "text": [
      "Firu mueve la cola!\n",
      "Soy un perro y hago woof woof!\n",
      "Yummy Yummy! estoy comiendo. \n",
      "Firu hace Grrrr.\n"
     ]
    }
   ],
   "source": [
    "Firu = Dog('Firu')\n",
    "Firu.action()\n",
    "Firu.bark()\n",
    "Firu.eat()\n",
    "Firu.make_noise()"
   ]
  },
  {
   "cell_type": "markdown",
   "metadata": {},
   "source": [
    "## Clase Wolf\n",
    "\n",
    "- **void action()**: Imprime '{self.name} muerde y duele OUCH!'."
   ]
  },
  {
   "cell_type": "code",
   "execution_count": 26,
   "metadata": {},
   "outputs": [],
   "source": [
    "class Wolf(Animal):\n",
    "    def action(self):\n",
    "        print(f'{self.name} muerde y duele OUCH!')"
   ]
  },
  {
   "cell_type": "code",
   "execution_count": 27,
   "metadata": {},
   "outputs": [
    {
     "name": "stdout",
     "output_type": "stream",
     "text": [
      "Sparco muerde y duele OUCH!\n",
      "Yummy Yummy! estoy comiendo. \n",
      "Sparco hace Grrrr.\n"
     ]
    }
   ],
   "source": [
    "Sparco = Wolf('Sparco')\n",
    "Sparco.action()\n",
    "Sparco.eat()\n",
    "Sparco.make_noise()"
   ]
  },
  {
   "cell_type": "markdown",
   "metadata": {},
   "source": [
    "## Hybrid\n",
    "\n",
    "- **void action()**: Imprime:\n",
    "    - '{self.name} mueve la cola!'\n",
    "    - '{self.name} muerde y duele OUCH!'"
   ]
  },
  {
   "cell_type": "code",
   "execution_count": 28,
   "metadata": {},
   "outputs": [],
   "source": [
    "class Hybrid(Dog, Wolf):\n",
    "    def action(self):\n",
    "        super().action()\n",
    "        Wolf.action(self)"
   ]
  },
  {
   "cell_type": "code",
   "execution_count": 30,
   "metadata": {},
   "outputs": [
    {
     "name": "stdout",
     "output_type": "stream",
     "text": [
      "Princesa mueve la cola!\n",
      "Princesa muerde y duele OUCH!\n",
      "Soy un perro y hago woof woof!\n",
      "Yummy Yummy! estoy comiendo. \n",
      "Princesa hace Grrrr.\n"
     ]
    }
   ],
   "source": [
    "Princesa = Hybrid('Princesa')\n",
    "Princesa.action()\n",
    "Princesa.bark()\n",
    "Princesa.eat()\n",
    "Princesa.make_noise()"
   ]
  }
 ],
 "metadata": {
  "kernelspec": {
   "display_name": "Python 3",
   "language": "python",
   "name": "python3"
  },
  "language_info": {
   "codemirror_mode": {
    "name": "ipython",
    "version": 3
   },
   "file_extension": ".py",
   "mimetype": "text/x-python",
   "name": "python",
   "nbconvert_exporter": "python",
   "pygments_lexer": "ipython3",
   "version": "3.12.5"
  }
 },
 "nbformat": 4,
 "nbformat_minor": 2
}
