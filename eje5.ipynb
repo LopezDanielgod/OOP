{
 "cells": [
  {
   "cell_type": "markdown",
   "metadata": {},
   "source": [
    "<img src=\"Diagramas_clases/05_herencia_multiple.png\" alt=\"Ex 1\" width=\"500\">"
   ]
  },
  {
   "cell_type": "code",
   "execution_count": 5,
   "metadata": {},
   "outputs": [],
   "source": [
    "class Animal:\n",
    "    def __init__(self, name):\n",
    "        self.name = name\n",
    "\n",
    "    def say_name(self):\n",
    "        print(f\"Mi nombre es: {self.name}\")\n",
    "\n",
    "    def eat(self):\n",
    "        print(f\"Jummy Jummy!, estoy comiendo\")\n",
    "\n",
    "    def make_noise(self):\n",
    "        print(f\"Hago Grr!\")\n",
    "    \n",
    "    def action(self):\n",
    "        print(\"Soy un canino\")\n",
    "    \n",
    "\n",
    "class Cat(Animal):\n",
    "    def meow(self):\n",
    "        print(\"Soy un gato y hago meow!\")\n",
    "    def make_noise(self):\n",
    "        print(f\"hago prrr: {self.name}\")\n",
    "        \n",
    "class Dog(Animal):\n",
    "    def bark(self):\n",
    "        print(\"Soy un perro y hago gua gua!\")\n",
    "    def action(self):\n",
    "        print(\"Soy un canino\")\n",
    "\n",
    "class Wolf(Animal):\n",
    "    def Aaaauuu(self):\n",
    "        print(\"Soy un lobo y hago Aaaauuu!\")\n",
    "    def action(self):\n",
    "        print(\"Soy un canino\")\n"
   ]
  },
  {
   "cell_type": "code",
   "execution_count": 7,
   "metadata": {},
   "outputs": [
    {
     "name": "stdout",
     "output_type": "stream",
     "text": [
      "Soy un perro y hago gua gua!\n",
      "Jummy Jummy!, estoy comiendo\n",
      "Mi nombre es: Solo Vino\n",
      "Mi nombre es: Solo Vino\n",
      "Soy un canino\n",
      "Soy un gato y hago meow!\n",
      "Jummy Jummy!, estoy comiendo\n",
      "Mi nombre es: Felix\n",
      "Mi nombre es: Felix\n",
      "hago prrr: Felix\n",
      "Soy un lobo y hago Aaaauuu!\n",
      "Jummy Jummy!, estoy comiendo\n",
      "Soy un canino\n",
      "Mi nombre es: Soy Balto\n",
      "Mi nombre es: Soy Balto\n"
     ]
    }
   ],
   "source": [
    "Solo_Vino = Dog(\"Solo Vino\")\n",
    "Solo_Vino.bark()\n",
    "Solo_Vino.eat()\n",
    "print(f\"Mi nombre es: {Solo_Vino.name}\")\n",
    "Solo_Vino.say_name()\n",
    "Solo_Vino.action()\n",
    "\n",
    "Felix = Cat(\"Felix\")\n",
    "Felix.meow()\n",
    "Felix.eat()\n",
    "print(f\"Mi nombre es: {Felix.name}\")\n",
    "Felix.say_name()\n",
    "Felix.make_noise()\n",
    "\n",
    "Balto = Wolf(\"Soy Balto\")\n",
    "Balto.Aaaauuu()\n",
    "Balto.eat()\n",
    "Balto.action()\n",
    "print(f\"Mi nombre es: {Balto.name}\")\n",
    "Balto.say_name()"
   ]
  }
 ],
 "metadata": {
  "kernelspec": {
   "display_name": "Python 3",
   "language": "python",
   "name": "python3"
  },
  "language_info": {
   "codemirror_mode": {
    "name": "ipython",
    "version": 3
   },
   "file_extension": ".py",
   "mimetype": "text/x-python",
   "name": "python",
   "nbconvert_exporter": "python",
   "pygments_lexer": "ipython3",
   "version": "3.12.5"
  }
 },
 "nbformat": 4,
 "nbformat_minor": 2
}
