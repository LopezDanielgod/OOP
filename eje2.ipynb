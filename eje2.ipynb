{
 "cells": [
  {
   "cell_type": "code",
   "execution_count": 1,
   "metadata": {},
   "outputs": [],
   "source": [
    "class Animal:\n",
    "    def __init__(self, name):\n",
    "        self.name = name\n",
    "\n",
    "    def say_name(self):\n",
    "        print(f\"Minombre es: {self.name}\")\n",
    "\n",
    "    def eat(self):\n",
    "        print(f\"Jummy Jummy!, estoy comiendo\")\n",
    "\n",
    "class Cat(Animal):\n",
    "    def meow(self):\n",
    "        print(\"Soy un gato y hago meow!\")\n",
    "        \n",
    "class Dog(Animal):\n",
    "    def bark(self):\n",
    "        print(\"Soy un perro y hago gua gua!\")"
   ]
  },
  {
   "cell_type": "code",
   "execution_count": 2,
   "metadata": {},
   "outputs": [
    {
     "name": "stdout",
     "output_type": "stream",
     "text": [
      "Soy un perro y hago gua gua!\n",
      "Jummy Jummy!, estoy comiendo\n",
      "Mi nombre es: Solo Vino\n",
      "Minombre es: Solo Vino\n"
     ]
    },
    {
     "ename": "AttributeError",
     "evalue": "'Cat' object has no attribute 'bark'",
     "output_type": "error",
     "traceback": [
      "\u001b[0;31m---------------------------------------------------------------------------\u001b[0m",
      "\u001b[0;31mAttributeError\u001b[0m                            Traceback (most recent call last)",
      "\u001b[1;32m/Users/danz12/Documents/OOP/Paradigmo/OOP/eje.ipynb Cell 2\u001b[0m line \u001b[0;36m8\n\u001b[1;32m      <a href='vscode-notebook-cell:/Users/danz12/Documents/OOP/Paradigmo/OOP/eje.ipynb#W2sZmlsZQ%3D%3D?line=4'>5</a>\u001b[0m Solo_Vino\u001b[39m.\u001b[39msay_name()\n\u001b[1;32m      <a href='vscode-notebook-cell:/Users/danz12/Documents/OOP/Paradigmo/OOP/eje.ipynb#W2sZmlsZQ%3D%3D?line=6'>7</a>\u001b[0m Felix \u001b[39m=\u001b[39m Cat(\u001b[39m\"\u001b[39m\u001b[39mFelix\u001b[39m\u001b[39m\"\u001b[39m)\n\u001b[0;32m----> <a href='vscode-notebook-cell:/Users/danz12/Documents/OOP/Paradigmo/OOP/eje.ipynb#W2sZmlsZQ%3D%3D?line=7'>8</a>\u001b[0m Felix\u001b[39m.\u001b[39;49mbark()\n\u001b[1;32m      <a href='vscode-notebook-cell:/Users/danz12/Documents/OOP/Paradigmo/OOP/eje.ipynb#W2sZmlsZQ%3D%3D?line=8'>9</a>\u001b[0m Felix\u001b[39m.\u001b[39meat()\n\u001b[1;32m     <a href='vscode-notebook-cell:/Users/danz12/Documents/OOP/Paradigmo/OOP/eje.ipynb#W2sZmlsZQ%3D%3D?line=9'>10</a>\u001b[0m \u001b[39mprint\u001b[39m(\u001b[39mf\u001b[39m\u001b[39m\"\u001b[39m\u001b[39mMi nombre es: \u001b[39m\u001b[39m{\u001b[39;00mFelix\u001b[39m.\u001b[39mname\u001b[39m}\u001b[39;00m\u001b[39m\"\u001b[39m)\n",
      "\u001b[0;31mAttributeError\u001b[0m: 'Cat' object has no attribute 'bark'"
     ]
    }
   ],
   "source": [
    "Solo_Vino = Dog(\"Solo Vino\")\n",
    "Solo_Vino.bark()\n",
    "Solo_Vino.eat()\n",
    "print(f\"Mi nombre es: {Solo_Vino.name}\")\n",
    "Solo_Vino.say_name()\n",
    "\n",
    "Felix = Cat(\"Felix\")\n",
    "Felix.bark()\n",
    "Felix.eat()\n",
    "print(f\"Mi nombre es: {Felix.name}\")\n",
    "Felix.say_name()"
   ]
  }
 ],
 "metadata": {
  "kernelspec": {
   "display_name": "Python 3",
   "language": "python",
   "name": "python3"
  },
  "language_info": {
   "codemirror_mode": {
    "name": "ipython",
    "version": 3
   },
   "file_extension": ".py",
   "mimetype": "text/x-python",
   "name": "python",
   "nbconvert_exporter": "python",
   "pygments_lexer": "ipython3",
   "version": "3.11.4"
  }
 },
 "nbformat": 4,
 "nbformat_minor": 2
}
